{
 "cells": [
  {
   "cell_type": "code",
   "execution_count": 7,
   "id": "b5c05e2d",
   "metadata": {},
   "outputs": [
    {
     "name": "stdout",
     "output_type": "stream",
     "text": [
      "data already exist, add new data\n"
     ]
    }
   ],
   "source": [
    "import psycopg2\n",
    "import pandas\n",
    "\n",
    "conn = psycopg2.connect(\"dbname='postgres' user='postgres' host='localhost' password='allow' port='5432'\")\n",
    "# to initiate connection to database\n",
    "\n",
    "try:\n",
    "    sql_query = \"\"\"                  \n",
    "         CREATE TABLE mytest.data(\n",
    "             ID INT PRIMARY KEY NOT NULL,\n",
    "             Country TEXT NOT NULL,\n",
    "             Subgroup VARCHAR NOT NULL,\n",
    "             Year INT NOT NULL,\n",
    "             Value FLOAT NOT NULL\n",
    "         )\n",
    "     \"\"\"  # create table on the connected database\n",
    "    cur = conn.cursor()\n",
    "\n",
    "    cur.execute(sql_query)\n",
    "    conn.commit()\n",
    "except psycopg2.errors.DuplicateTable:\n",
    "    pass\n",
    "\n",
    "cur = conn.cursor()\n",
    "conn.rollback()  # to avoid the DuplicateTable error\n",
    "\n",
    "\n",
    "def input_values(data):\n",
    "    # add values to table\n",
    "    try:\n",
    "        for (index, row) in data.iterrows():\n",
    "            insert_sql_query = f'''\n",
    "                insert into mytest.data(ID, Country, Subgroup, Year, Value)\n",
    "                values('{index + 1}'\n",
    "                , '{row['Country']}'\n",
    "                , 'Subgroup'\n",
    "                , '{row['Year']}'\n",
    "                , '{row['Value']}')\n",
    "            '''\n",
    "\n",
    "            cur.execute(insert_sql_query)\n",
    "\n",
    "        conn.commit()\n",
    "    except psycopg2.errors.UniqueViolation:\n",
    "        print('data already exist, add new data')\n",
    "        pass\n",
    "\n",
    "\n",
    "data_csv = pandas.read_csv('data.csv')\n",
    "input_values(data_csv)\n",
    "\n",
    "cur.close()\n",
    "conn.close()"
   ]
  },
  {
   "cell_type": "code",
   "execution_count": null,
   "id": "68e0ce77",
   "metadata": {},
   "outputs": [],
   "source": []
  }
 ],
 "metadata": {
  "kernelspec": {
   "display_name": "Python 3",
   "language": "python",
   "name": "python3"
  },
  "language_info": {
   "codemirror_mode": {
    "name": "ipython",
    "version": 3
   },
   "file_extension": ".py",
   "mimetype": "text/x-python",
   "name": "python",
   "nbconvert_exporter": "python",
   "pygments_lexer": "ipython3",
   "version": "3.8.8"
  }
 },
 "nbformat": 4,
 "nbformat_minor": 5
}
